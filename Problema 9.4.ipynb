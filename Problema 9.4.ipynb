{
 "cells": [
  {
   "cell_type": "markdown",
   "metadata": {},
   "source": [
    "# Ejercicio 9.4: Difusión Termica en la corteza terrestre\n",
    "\n",
    "Un ejemplo clasico de un problema de difusión con condiciones de frontera varibles en el tiempo es la difusión del calor en la corteza de la Tierra, como la temperatura de la superficie varia con las temporadas. Suponga que la temperatura media diaria en un punto particular de la superficie varia como:\n",
    "\n",
    "$$T_{0}(t)=A+Bsin\\frac{2\\pi t}{\\tau }$$\n",
    "\n",
    "donde $\\tau =365dias$, $A=10^{\\circ}C$ y $A=12^{\\circ}C$. En la profundidad de $20m$ debajo de la superficie al menos toda la variacion de temperatura anual es subsanada y la temperatura es, en una buena aproximación, un constante $11^{\\circ}C$ (el cual es mayor que la temperatura media de la superficie de $10^{\\circ}C$ -la temperatura aumenta con la profundidad, debido a el calentamiento del nucleo caliente del planta). La difusividad termica de la corteza de la Tierra varia algo de lugar a lugar, pero para nuestro proposito la trataremos como una constante con el valor $D=0.1m^{2}dia^{-1}$.\n",
    "\n",
    "Escriba un programa, o modifique uno de los dados en este capitulo, para calcular el perfil de temperatura de la corteza como una función de la profundidad a $20m$ y tiempo a $10 años$. Empiece con la temperatura en todos lados igual a $10^{\\circ}C$, excepto en la superficie y el punto mas profundo, escoja valores para el numero de puntos de malla y el paso de tiempo, entonces corra su proigrama para los primeros nueve años simulados, para permitir que se establezca en cualquier patrón que alcance. Entonces para el decimo y final año imprima cuatro temperaturas tomadas un intervalo de 3 meses en una sola grafica para ilustrar como la temperatura cambia como una funcion de la profundidad y el tiempo."
   ]
  },
  {
   "cell_type": "code",
   "execution_count": 18,
   "metadata": {},
   "outputs": [
    {
     "data": {
      "image/png": "[encoded data removed]",
      "text/plain": [
       "<Figure size 432x288 with 1 Axes>"
      ]
     },
     "metadata": {
      "needs_background": "light"
     },
     "output_type": "display_data"
    }
   ],
   "source": [
    "from numpy import empty\n",
    "from pylab import plot,xlabel,ylabel,show,zeros\n",
    "\n",
    "A = 10\n",
    "B = 12\n",
    "tau = 365\n",
    "\n",
    "L = 20          #Grosor del acero en metros\n",
    "D = 0.1       #Difusividad termal\n",
    "N = 100           #Numero de divisiones en la malla\n",
    "a = L/N           #Espaciado de la malla\n",
    "h = 0.01          #Paso de tiempo\n",
    "epsilon = h/1000\n",
    "\n",
    "A = 10\n",
    "B = 12\n",
    "tau = 365\n",
    "def T0(t):\n",
    "    return A + B*sin(2*pi*t/tau)\n",
    "\n",
    "tmin=365*9\n",
    "t=tmin\n",
    "t1= tmin\n",
    "t2= tmin+90\n",
    "t3= t2+90\n",
    "t4= t3+90\n",
    "\n",
    "#Creando arrays\n",
    "T = empty(N+1,float)\n",
    "T[0] = 10\n",
    "T[N] = 11\n",
    "Tp = empty(N+1,float)\n",
    "Tp[0] = 10\n",
    "Tp[N] = 11\n",
    "\n",
    "\n",
    "\n",
    "# Main loop\n",
    "t = 0.0\n",
    "c = h*D/a**2\n",
    "\n",
    "while t<t4:\n",
    "    Tp[0] = T0(t)\n",
    "    Tp[N] = 11\n",
    "    for i in range (1,N):\n",
    "        Tp[i] = T[i] + c*(T[i+1]+T[i-1]-2*T[i])\n",
    "    T,Tp = Tp,T \n",
    "    t += h\n",
    "    if abs(t-t1)<epsilon:\n",
    "        plot(T)\n",
    "    if abs(t-t2)<epsilon:\n",
    "        plot(T)\n",
    "    if abs(t-t3)<epsilon:\n",
    "        plot(T)\n",
    "    if abs(t-t4)<epsilon:\n",
    "        plot(T)\n",
    "xlabel(\"x\")\n",
    "ylabel(\"T\")\n",
    "show()\n"
   ]
  },
  {
   "cell_type": "code",
   "execution_count": null,
   "metadata": {},
   "outputs": [],
   "source": []
  }
 ],
 "metadata": {
  "kernelspec": {
   "display_name": "Python 3",
   "language": "python",
   "name": "python3"
  },
  "language_info": {
   "codemirror_mode": {
    "name": "ipython",
    "version": 3
   },
   "file_extension": ".py",
   "mimetype": "text/x-python",
   "name": "python",
   "nbconvert_exporter": "python",
   "pygments_lexer": "ipython3",
   "version": "3.7.3"
  }
 },
 "nbformat": 4,
 "nbformat_minor": 2
}
